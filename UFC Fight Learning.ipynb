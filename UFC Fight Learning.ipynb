{
 "cells": [
  {
   "cell_type": "code",
   "execution_count": 1,
   "metadata": {},
   "outputs": [],
   "source": [
    "#convert excel to all be of same data type\n",
    "import pandas\n",
    "import numpy\n",
    "import math\n",
    "import random\n",
    "\n",
    "#can probably make this a def function\n",
    "pathname = \"/Users/chugh/Documents/UFC Fight Code/Fighter stats train new.csv\"\n",
    "pathname2 = \"/Users/chugh/Documents/UFC Fight Code/Fighter stats train new 2.csv\"\n",
    "stats = pandas.read_csv(pathname, index_col = 0)\n",
    "stats = stats.reset_index()\n",
    "#print(stats)\n",
    "stats2 = stats.astype('float32')\n",
    "stats2.to_csv(pathname2, index=False)\n",
    "stats3 = pandas.read_csv(pathname2, index_col = 0)"
   ]
  },
  {
   "cell_type": "code",
   "execution_count": 2,
   "metadata": {},
   "outputs": [
    {
     "name": "stdout",
     "output_type": "stream",
     "text": [
      "Features: ['SSpM', 'StrDef', 'TDpM', 'TDDef', 'Rank', 'WL', 'FinUFC', 'Age', 'Dur', 'SSpM2', 'StrDef2', 'TDpM2', 'TDDef2', 'Rank2', 'WL2', 'FinUFC2', 'Age2', 'Dur2']\n",
      "Label: Result\n",
      "WARNING:tensorflow:From C:\\Users\\chugh\\Anaconda3\\lib\\site-packages\\tensorflow_core\\python\\data\\experimental\\ops\\readers.py:540: parallel_interleave (from tensorflow.python.data.experimental.ops.interleave_ops) is deprecated and will be removed in a future version.\n",
      "Instructions for updating:\n",
      "Use `tf.data.Dataset.interleave(map_func, cycle_length, block_length, num_parallel_calls=tf.data.experimental.AUTOTUNE)` instead. If sloppy execution is desired, use `tf.data.Options.experimental_determinstic`.\n",
      "OrderedDict([('SSpM', <tf.Tensor: id=126, shape=(5,), dtype=float32, numpy=array([3.46, 5.6 , 3.32, 2.88, 4.03], dtype=float32)>), ('StrDef', <tf.Tensor: id=128, shape=(5,), dtype=float32, numpy=array([0.65, 0.53, 0.51, 0.47, 0.64], dtype=float32)>), ('TDpM', <tf.Tensor: id=132, shape=(5,), dtype=float32, numpy=array([0.35, 0.48, 1.  , 2.69, 4.5 ], dtype=float32)>), ('TDDef', <tf.Tensor: id=130, shape=(5,), dtype=float32, numpy=array([0.51, 0.7 , 0.45, 0.58, 0.85], dtype=float32)>), ('Rank', <tf.Tensor: id=124, shape=(5,), dtype=float32, numpy=array([10., 10., 55., 27., 38.], dtype=float32)>), ('WL', <tf.Tensor: id=134, shape=(5,), dtype=float32, numpy=array([0.5, 0.8, 0.8, 0.5, 0.9], dtype=float32)>), ('FinUFC', <tf.Tensor: id=122, shape=(5,), dtype=float32, numpy=array([10.,  4.,  6., 10.,  1.], dtype=float32)>), ('Age', <tf.Tensor: id=118, shape=(5,), dtype=float32, numpy=array([42., 33., 26., 32., 33.], dtype=float32)>), ('Dur', <tf.Tensor: id=120, shape=(5,), dtype=float32, numpy=array([1. , 1. , 1. , 0.6, 1. ], dtype=float32)>), ('SSpM2', <tf.Tensor: id=127, shape=(5,), dtype=float32, numpy=array([3.32, 2.3 , 4.94, 2.17, 3.4 ], dtype=float32)>), ('StrDef2', <tf.Tensor: id=129, shape=(5,), dtype=float32, numpy=array([0.63, 0.53, 0.44, 0.59, 0.76], dtype=float32)>), ('TDpM2', <tf.Tensor: id=133, shape=(5,), dtype=float32, numpy=array([1.13, 3.28, 0.  , 1.76, 1.55], dtype=float32)>), ('TDDef2', <tf.Tensor: id=131, shape=(5,), dtype=float32, numpy=array([0.67, 0.48, 0.  , 0.77, 1.  ], dtype=float32)>), ('Rank2', <tf.Tensor: id=125, shape=(5,), dtype=float32, numpy=array([ 6.,  7., 56., 93., 25.], dtype=float32)>), ('WL2', <tf.Tensor: id=135, shape=(5,), dtype=float32, numpy=array([0.6, 0.6, 0.8, 0.8, 1. ], dtype=float32)>), ('FinUFC2', <tf.Tensor: id=123, shape=(5,), dtype=float32, numpy=array([10., 10.,  1.,  6.,  2.], dtype=float32)>), ('Age2', <tf.Tensor: id=119, shape=(5,), dtype=float32, numpy=array([31., 32., 33., 33., 26.], dtype=float32)>), ('Dur2', <tf.Tensor: id=121, shape=(5,), dtype=float32, numpy=\n",
      "array([0.71428573, 0.5       , 0.        , 0.6666667 , 1.        ],\n",
      "      dtype=float32)>)])\n"
     ]
    }
   ],
   "source": [
    "#want to write code that takes in two fighters stats and makes a prediction of who will win \n",
    "#additionally, would like to at some point make it so that it knows how they will win\n",
    "\n",
    "#in order to do this, we will feed in data from both fighters as one data structure\n",
    "#based on the features for each fighter, the algorithm will try to predict who will win\n",
    "\n",
    "#we are going to want to create a structure of features and labels\n",
    "#for features, we will include all data for Fighter 1 and Fighter 2 labeled F1 amd F2\n",
    "#labels will contain the winner of each match (F1 or F2)\n",
    "\n",
    "import os\n",
    "import matplotlib.pyplot as plt\n",
    "import tensorflow as tf\n",
    "tf.enable_eager_execution()\n",
    "\n",
    "\n",
    "#load in training data\n",
    "pathname = \"/Users/chugh/Documents/UFC Fight Code/Fighter stats train new 2.csv\"\n",
    "\n",
    "# column order in CSV file\n",
    "# column_names = ['SSpM','StrDef','TDpM','TDDef','1stRnd','2ndRnd','3rdRnd','4thRnd','5thRnd','Dec','Rank','WL','FinUFC','Age','Dur','SSpM2','StrDef2','TDpM2','TDDef2','1stRnd2','2ndRnd2','3rdRnd2','4thRnd2','5thRnd2','Dec2','Rank2','WL2','FinUFC2','Age2','Dur2','Result']\n",
    "column_names = ['SSpM','StrDef','TDpM','TDDef','Rank','WL','FinUFC','Age','Dur','SSpM2','StrDef2','TDpM2','TDDef2','Rank2','WL2','FinUFC2','Age2','Dur2','Result']\n",
    "\n",
    "\n",
    "feature_names = column_names[:-1]\n",
    "label_name = column_names[-1]\n",
    "\n",
    "print(\"Features: {}\".format(feature_names))\n",
    "print(\"Label: {}\".format(label_name))\n",
    "\n",
    "class_names = ['Fighter 1', 'Fighter 2']\n",
    "\n",
    "batch_size = 5\n",
    "\n",
    "train_dataset = tf.data.experimental.make_csv_dataset(\n",
    "    pathname,\n",
    "    batch_size,\n",
    "    column_names=column_names,\n",
    "    label_name=label_name,\n",
    "    num_epochs=1)\n",
    "\n",
    "features, labels = next(iter(train_dataset))\n",
    "print(features)"
   ]
  },
  {
   "cell_type": "code",
   "execution_count": 3,
   "metadata": {},
   "outputs": [
    {
     "name": "stdout",
     "output_type": "stream",
     "text": [
      "tf.Tensor(\n",
      "[[ 3.46        0.65        0.35        0.51       10.          0.5\n",
      "  10.         42.          1.          3.32        0.63        1.13\n",
      "   0.67        6.          0.6        10.         31.          0.71428573]\n",
      " [ 5.6         0.53        0.48        0.7        10.          0.8\n",
      "   4.         33.          1.          2.3         0.53        3.28\n",
      "   0.48        7.          0.6        10.         32.          0.5       ]\n",
      " [ 3.32        0.51        1.          0.45       55.          0.8\n",
      "   6.         26.          1.          4.94        0.44        0.\n",
      "   0.         56.          0.8         1.         33.          0.        ]\n",
      " [ 2.88        0.47        2.69        0.58       27.          0.5\n",
      "  10.         32.          0.6         2.17        0.59        1.76\n",
      "   0.77       93.          0.8         6.         33.          0.6666667 ]\n",
      " [ 4.03        0.64        4.5         0.85       38.          0.9\n",
      "   1.         33.          1.          3.4         0.76        1.55\n",
      "   1.         25.          1.          2.         26.          1.        ]], shape=(5, 18), dtype=float32)\n"
     ]
    }
   ],
   "source": [
    "def pack_features_vector(features, labels):\n",
    "\n",
    "    features = tf.stack(list(features.values()), axis=1)\n",
    "\n",
    "    return features, labels\n",
    "train_dataset = train_dataset.map(pack_features_vector)\n",
    "\n",
    "features, labels = next(iter(train_dataset))\n",
    "\n",
    "print(features[:5])"
   ]
  },
  {
   "cell_type": "code",
   "execution_count": 4,
   "metadata": {},
   "outputs": [],
   "source": [
    "model = tf.keras.Sequential([\n",
    "  tf.keras.layers.Dense(5, activation=tf.nn.relu, input_shape=(18,)),  # input shape required\n",
    "  tf.keras.layers.Dense(5, activation=tf.nn.relu),\n",
    "  tf.keras.layers.Dense(2)\n",
    "])"
   ]
  },
  {
   "cell_type": "code",
   "execution_count": 5,
   "metadata": {},
   "outputs": [
    {
     "data": {
      "text/plain": [
       "<tf.Tensor: id=284, shape=(5, 2), dtype=float32, numpy=\n",
       "array([[0.0013013 , 0.9986987 ],\n",
       "       [0.00391162, 0.9960884 ],\n",
       "       [0.00350577, 0.99649423],\n",
       "       [0.12710088, 0.8728992 ],\n",
       "       [0.01958097, 0.980419  ]], dtype=float32)>"
      ]
     },
     "execution_count": 5,
     "metadata": {},
     "output_type": "execute_result"
    }
   ],
   "source": [
    "predictions = model(features)\n",
    "tf.nn.softmax(predictions[:5])"
   ]
  },
  {
   "cell_type": "code",
   "execution_count": 6,
   "metadata": {},
   "outputs": [
    {
     "name": "stdout",
     "output_type": "stream",
     "text": [
      "Loss test: 1.2009408473968506\n"
     ]
    }
   ],
   "source": [
    "loss_object = tf.keras.losses.SparseCategoricalCrossentropy(from_logits=True)\n",
    "def loss(model, x, y, training):\n",
    "  # training=training is needed only if there are layers with different\n",
    "  # behavior during training versus inference (e.g. Dropout).\n",
    "    y_ = model(x, training=training)\n",
    "    return loss_object(y_true=y, y_pred=y_)\n",
    "\n",
    "\n",
    "l = loss(model, features, labels, training=False)\n",
    "print(\"Loss test: {}\".format(l))"
   ]
  },
  {
   "cell_type": "code",
   "execution_count": 7,
   "metadata": {},
   "outputs": [
    {
     "name": "stdout",
     "output_type": "stream",
     "text": [
      "Step: 0, Initial Loss: 1.2009408473968506\n",
      "Step: 1, Loss: 0.9932059049606323\n"
     ]
    }
   ],
   "source": [
    "def grad(model, inputs, targets):\n",
    "    with tf.GradientTape() as tape:\n",
    "        loss_value = loss(model, inputs, targets, training=True)\n",
    "\n",
    "    return loss_value, tape.gradient(loss_value, model.trainable_variables)\n",
    "optimizer = tf.keras.optimizers.SGD(learning_rate=0.01)\n",
    "loss_value, grads = grad(model, features, labels)\n",
    "print(\"Step: {}, Initial Loss: {}\".format(optimizer.iterations.numpy(),loss_value.numpy()))\n",
    "\n",
    "optimizer.apply_gradients(zip(grads, model.trainable_variables))\n",
    "\n",
    "print(\"Step: {}, Loss: {}\".format(optimizer.iterations.numpy(),loss(model, features, labels, training=True).numpy()))"
   ]
  },
  {
   "cell_type": "code",
   "execution_count": 8,
   "metadata": {},
   "outputs": [
    {
     "name": "stdout",
     "output_type": "stream",
     "text": [
      "Epoch 000: Loss: 1.068, Accuracy: 72.000%\n",
      "Epoch 050: Loss: 0.489, Accuracy: 92.000%\n",
      "Epoch 100: Loss: 0.510, Accuracy: 86.000%\n",
      "Epoch 150: Loss: 0.489, Accuracy: 82.000%\n",
      "Epoch 200: Loss: 0.480, Accuracy: 86.000%\n"
     ]
    }
   ],
   "source": [
    "## Note: Rerunning this cell uses the same model variables\n",
    "\n",
    "# Keep results for plotting\n",
    "train_loss_results = []\n",
    "train_accuracy_results = []\n",
    "\n",
    "num_epochs = 201\n",
    "\n",
    "for epoch in range(num_epochs):\n",
    "    epoch_loss_avg = tf.keras.metrics.Mean()\n",
    "    epoch_accuracy = tf.keras.metrics.SparseCategoricalAccuracy()\n",
    "\n",
    "    # Training loop - using batches of 32\n",
    "    for x, y in train_dataset:\n",
    "        # Optimize the model\n",
    "        loss_value, grads = grad(model, x, y)\n",
    "        optimizer.apply_gradients(zip(grads, model.trainable_variables))\n",
    "\n",
    "        # Track progress\n",
    "        epoch_loss_avg.update_state(loss_value)  # Add current batch loss\n",
    "        # Compare predicted label to actual label\n",
    "        # training=True is needed only if there are layers with different\n",
    "        # behavior during training versus inference (e.g. Dropout).\n",
    "        epoch_accuracy.update_state(y, model(x, training=True))\n",
    "\n",
    "      # End epoch\n",
    "    train_loss_results.append(epoch_loss_avg.result())\n",
    "    train_accuracy_results.append(epoch_accuracy.result())\n",
    "    if epoch % 50 == 0:\n",
    "        print(\"Epoch {:03d}: Loss: {:.3f}, Accuracy: {:.3%}\".format(epoch,epoch_loss_avg.result(),epoch_accuracy.result()))"
   ]
  },
  {
   "cell_type": "code",
   "execution_count": 9,
   "metadata": {},
   "outputs": [],
   "source": [
    "import pandas\n",
    "import numpy\n",
    "import math\n",
    "\n",
    "pathname = \"/Users/chugh/Documents/UFC Fight Code/Fighter stats test new.csv\"\n",
    "pathname2 = \"/Users/chugh/Documents/UFC Fight Code/Fighter stats test new 2.csv\"\n",
    "stats = pandas.read_csv(pathname, index_col = 0)\n",
    "stats = stats.reset_index()\n",
    "stats2 = stats.astype('float32')\n",
    "stats2.to_csv(pathname2, index=False)\n",
    "stats3 = pandas.read_csv(pathname2, index_col = 0)"
   ]
  },
  {
   "cell_type": "code",
   "execution_count": 10,
   "metadata": {},
   "outputs": [],
   "source": [
    "test_url = \"/Users/chugh/Documents/UFC Fight Code/Fighter stats test new 2.csv\"\n",
    "\n",
    "batch_size = 2\n",
    "test_dataset = tf.data.experimental.make_csv_dataset(\n",
    "    test_url,\n",
    "    batch_size,\n",
    "    column_names=column_names,\n",
    "    label_name='Result',\n",
    "    num_epochs=1,\n",
    "    shuffle=False)\n",
    "\n",
    "test_dataset = test_dataset.map(pack_features_vector)"
   ]
  },
  {
   "cell_type": "code",
   "execution_count": 11,
   "metadata": {},
   "outputs": [
    {
     "name": "stdout",
     "output_type": "stream",
     "text": [
      "tf.Tensor([1 1], shape=(2,), dtype=int32)\n",
      "tf.Tensor([1 0], shape=(2,), dtype=int32)\n",
      "tf.Tensor([1 1], shape=(2,), dtype=int32)\n",
      "tf.Tensor([0 1], shape=(2,), dtype=int32)\n",
      "tf.Tensor([0 1], shape=(2,), dtype=int32)\n",
      "tf.Tensor([0 1], shape=(2,), dtype=int32)\n",
      "tf.Tensor([1 1], shape=(2,), dtype=int32)\n",
      "tf.Tensor([1], shape=(1,), dtype=int32)\n",
      "Test set accuracy: 60.000%\n"
     ]
    }
   ],
   "source": [
    "test_accuracy = tf.keras.metrics.Accuracy()\n",
    "\n",
    "for (x, y) in test_dataset:\n",
    "  # training=False is needed only if there are layers with different\n",
    "  # behavior during training versus inference (e.g. Dropout).\n",
    "    logits = model(x, training=False)\n",
    "    prediction = tf.argmax(logits, axis=1, output_type=tf.int32)\n",
    "    print(prediction)\n",
    "    test_accuracy(prediction, y)\n",
    "\n",
    "print(\"Test set accuracy: {:.3%}\".format(test_accuracy.result()))"
   ]
  },
  {
   "cell_type": "code",
   "execution_count": 12,
   "metadata": {
    "scrolled": true
   },
   "outputs": [
    {
     "name": "stdout",
     "output_type": "stream",
     "text": [
      "tf.Tensor([1 1 0 0 1 0 1], shape=(7,), dtype=int32)\n"
     ]
    },
    {
     "data": {
      "text/plain": [
       "<tf.Tensor: id=222370, shape=(7, 2), dtype=float32, numpy=\n",
       "array([[0.00282314, 0.9971769 ],\n",
       "       [0.11440118, 0.8855988 ],\n",
       "       [0.5993785 , 0.40062144],\n",
       "       [0.628533  , 0.37146696],\n",
       "       [0.45969424, 0.5403057 ],\n",
       "       [0.6273176 , 0.37268242],\n",
       "       [0.04103351, 0.95896643]], dtype=float32)>"
      ]
     },
     "execution_count": 12,
     "metadata": {},
     "output_type": "execute_result"
    }
   ],
   "source": [
    "#for new data\n",
    "import pandas\n",
    "import numpy\n",
    "import math\n",
    "\n",
    "pathname = \"/Users/chugh/Documents/UFC Fight Code/Fighter Stats 81920.csv\"\n",
    "pathname2 = \"/Users/chugh/Documents/UFC Fight Code/Fighter Stats 81920 2.csv\"\n",
    "stats = pandas.read_csv(pathname, index_col = 0)\n",
    "stats = stats.reset_index()\n",
    "stats2 = stats.astype('float32')\n",
    "stats2.to_csv(pathname2, index=False)\n",
    "\n",
    "#will default results to 1\n",
    "test_url = \"/Users/chugh/Documents/UFC Fight Code/Fighter Stats 81920 2.csv\"\n",
    "\n",
    "batch_size = 8 #batch size should be equal to the number of fights\n",
    "test_dataset = tf.data.experimental.make_csv_dataset(\n",
    "    test_url,\n",
    "    batch_size,\n",
    "    column_names=column_names,\n",
    "    label_name='Result',\n",
    "    num_epochs=1,\n",
    "    shuffle=False)\n",
    "\n",
    "test_dataset = test_dataset.map(pack_features_vector)\n",
    "\n",
    "test_accuracy = tf.keras.metrics.Accuracy()\n",
    "\n",
    "for (x, y) in test_dataset:\n",
    "  # training=False is needed only if there are layers with different\n",
    "  # behavior during training versus inference (e.g. Dropout).\n",
    "    logits = model(x, training=False)\n",
    "    prediction = tf.argmax(logits, axis=1, output_type=tf.int32)\n",
    "    print(prediction)\n",
    "    test_accuracy(prediction, y)\n",
    "    \n",
    "tf.nn.softmax(logits)"
   ]
  },
  {
   "cell_type": "code",
   "execution_count": null,
   "metadata": {},
   "outputs": [],
   "source": [
    "model.save(\"/Users/chugh/Documents/UFC Fight Code/model_8320_hundred\")"
   ]
  },
  {
   "cell_type": "code",
   "execution_count": null,
   "metadata": {},
   "outputs": [],
   "source": [
    "print(column_names)"
   ]
  },
  {
   "cell_type": "code",
   "execution_count": null,
   "metadata": {},
   "outputs": [],
   "source": []
  }
 ],
 "metadata": {
  "kernelspec": {
   "display_name": "Python 3",
   "language": "python",
   "name": "python3"
  },
  "language_info": {
   "codemirror_mode": {
    "name": "ipython",
    "version": 3
   },
   "file_extension": ".py",
   "mimetype": "text/x-python",
   "name": "python",
   "nbconvert_exporter": "python",
   "pygments_lexer": "ipython3",
   "version": "3.7.4"
  }
 },
 "nbformat": 4,
 "nbformat_minor": 2
}
