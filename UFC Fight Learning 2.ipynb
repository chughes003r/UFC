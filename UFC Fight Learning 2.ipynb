{
 "cells": [
  {
   "cell_type": "code",
   "execution_count": 1,
   "metadata": {},
   "outputs": [
    {
     "name": "stdout",
     "output_type": "stream",
     "text": [
      "            StrDef      TDpM     TDDef      Rank        WL  FinUFC       Age  \\\n",
      "SSpM                                                                           \n",
      "0.781743  0.483333  0.000000  0.699387  0.675090  0.444444  0.2500  0.478261   \n",
      "0.360166  0.550000  0.542923  0.141104  0.646209  0.444444  0.3750  0.652174   \n",
      "0.658921  0.500000  0.394432  0.288344  0.671480  0.444444  0.5000  0.869565   \n",
      "0.623237  0.566667  0.443929  0.343558  0.602888  0.000000  0.8125  0.826087   \n",
      "0.854772  0.433333  0.555298  0.417178  0.707581  0.444444  0.5000  0.173913   \n",
      "0.675519  0.533333  0.421500  0.552147  0.761733  0.555556  0.3750  0.391304   \n",
      "0.858091  0.450000  0.215004  0.625767  0.700361  0.333333  0.7500  0.739130   \n",
      "0.705394  0.583333  0.422274  0.539877  0.664260  0.555556  0.5625  0.347826   \n",
      "0.721162  0.500000  0.482599  0.552147  0.638989  0.444444  0.5625  0.260870   \n",
      "0.576763  0.533333  0.647332  0.809816  0.559567  0.333333  1.0000  0.608696   \n",
      "0.566805  0.416667  0.440062  0.134969  0.707581  0.444444  0.6875  0.173913   \n",
      "0.690456  0.550000  0.291570  0.668712  0.588448  0.777778  0.3125  0.304348   \n",
      "0.709544  0.483333  0.541377  0.282209  0.653430  0.444444  0.5000  0.434783   \n",
      "0.817427  0.700000  0.385924  0.546012  0.447653  0.166667  0.6875  0.391304   \n",
      "0.653112  0.483333  0.495746  0.693252  0.678700  0.222222  0.8125  0.434783   \n",
      "0.766805  0.633333  0.454756  1.000000  0.718412  0.444444  0.5625  0.130435   \n",
      "0.512863  0.583333  0.532096  0.662577  0.653430  0.555556  0.8125  0.086957   \n",
      "0.580913  1.000000  0.891725  0.171779  0.913357  0.666667  0.3750  0.086957   \n",
      "0.669710  0.366667  0.589327  0.521472  0.646209  1.000000  0.5000  0.304348   \n",
      "0.689627  0.516667  0.306264  0.466258  0.660650  0.333333  0.6250  0.260870   \n",
      "0.466390  0.433333  0.370456  0.411043  0.682310  0.111111  0.7500  0.652174   \n",
      "0.431535  0.600000  0.374323  0.202454  0.653430  0.444444  0.3750  0.391304   \n",
      "1.000000  0.366667  0.261408  0.441718  0.754513  0.666667  0.2500  0.391304   \n",
      "0.000000  0.683333  0.454756  0.245399  0.707581  0.555556  0.5625  0.695652   \n",
      "0.852282  0.366667  0.327920  0.515337  1.000000  0.555556  0.2500  0.260870   \n",
      "0.729461  0.650000  0.430781  0.411043  0.660650  0.444444  0.6250  0.521739   \n",
      "0.761826  0.416667  0.565352  0.478528  0.653430  0.777778  0.5000  0.565217   \n",
      "0.748548  0.416667  0.331787  0.607362  0.866426  0.750000  0.1250  0.391304   \n",
      "0.385892  0.516667  0.480278  0.000000  0.610108  0.472222  0.6250  0.347826   \n",
      "0.742739  0.433333  0.385151  0.349693  0.646209  0.444444  0.8750  0.521739   \n",
      "0.648133  0.466667  0.512761  0.779141  0.487365  0.222222  0.8125  0.608696   \n",
      "0.718672  0.533333  0.497293  0.441718  0.682310  0.666667  0.3750  0.391304   \n",
      "0.750208  0.383333  0.570766  0.294479  0.617328  0.666667  0.5000  0.130435   \n",
      "0.681328  0.400000  0.443155  0.717791  0.617328  0.444444  0.5000  0.000000   \n",
      "0.921162  0.466667  0.238206  0.521472  0.667870  0.777778  0.1250  0.434783   \n",
      "0.646473  0.000000  1.000000  0.036810  0.689531  0.888889  0.1875  0.434783   \n",
      "0.706224  0.266667  0.526682  0.269939  0.418773  0.222222  0.7500  0.347826   \n",
      "0.699585  0.266667  0.682908  0.294479  0.703971  0.444444  0.4375  0.695652   \n",
      "0.803319  0.683333  0.454756  0.386503  0.570397  0.222222  0.5625  0.260870   \n",
      "0.683817  0.500000  0.452436  0.288344  0.642599  0.555556  1.0000  0.782609   \n",
      "0.587552  0.333333  0.147718  0.539877  0.653430  0.111111  0.8750  1.000000   \n",
      "0.824896  0.366667  0.578500  0.263804  0.642599  0.333333  0.8750  0.478261   \n",
      "0.834025  0.416667  0.437742  0.349693  0.602888  0.666667  0.5625  0.304348   \n",
      "0.940249  0.883333  0.451663  0.325153  0.664260  0.555556  0.4375  0.173913   \n",
      "0.634855  0.583333  0.344934  0.319018  0.675090  0.777778  0.5000  0.217391   \n",
      "0.836515  0.316667  0.501160  0.190184  0.833935  0.888889  0.0000  0.391304   \n",
      "0.593361  0.533333  0.421500  0.478528  0.624549  0.444444  0.5000  0.173913   \n",
      "0.695436  0.550000  0.499613  0.466258  0.646209  0.111111  0.9375  0.782609   \n",
      "0.745228  0.816667  0.167827  0.865031  0.000000  0.333333  0.8125  0.130435   \n",
      "0.818257  0.583333  0.396752  0.386503  0.653430  0.333333  0.8125  0.739130   \n",
      "\n",
      "               Dur  Result  \n",
      "SSpM                        \n",
      "0.781743  0.714286     1.0  \n",
      "0.360166  0.714286     0.0  \n",
      "0.658921  0.591837     1.0  \n",
      "0.623237  0.200000     0.0  \n",
      "0.854772  0.600000     0.0  \n",
      "0.675519  1.000000     0.0  \n",
      "0.858091  0.632653     1.0  \n",
      "0.705394  0.485714     0.0  \n",
      "0.721162  1.000000     0.0  \n",
      "0.576763  0.142857     0.0  \n",
      "0.566805  0.469388     1.0  \n",
      "0.690456  0.380952     1.0  \n",
      "0.709544  0.261905     0.0  \n",
      "0.817427  0.523810     0.0  \n",
      "0.653112  0.428571     1.0  \n",
      "0.766805  0.761905     0.0  \n",
      "0.512863  1.000000     1.0  \n",
      "0.580913  0.619048     0.0  \n",
      "0.669710  0.428571     0.0  \n",
      "0.689627  0.428571     1.0  \n",
      "0.466390  0.085714     1.0  \n",
      "0.431535  0.523810     0.0  \n",
      "1.000000  0.523810     1.0  \n",
      "0.000000  0.809524     1.0  \n",
      "0.852282  0.809524     1.0  \n",
      "0.729461  0.238095     1.0  \n",
      "0.761826  0.085714     0.0  \n",
      "0.748548  0.047619     0.0  \n",
      "0.385892  0.314286     0.0  \n",
      "0.742739  0.428571     1.0  \n",
      "0.648133  0.428571     1.0  \n",
      "0.718672  0.428571     1.0  \n",
      "0.750208  0.371429     0.0  \n",
      "0.681328  0.228571     1.0  \n",
      "0.921162  0.714286     1.0  \n",
      "0.646473  0.314286     1.0  \n",
      "0.706224  0.390476     0.0  \n",
      "0.699585  0.428571     0.0  \n",
      "0.803319  1.000000     0.0  \n",
      "0.683817  0.428571     1.0  \n",
      "0.587552  0.000000     0.0  \n",
      "0.824896  0.142857     1.0  \n",
      "0.834025  1.000000     0.0  \n",
      "0.940249  0.428571     1.0  \n",
      "0.634855  0.571429     1.0  \n",
      "0.836515  0.274286     1.0  \n",
      "0.593361  0.000000     0.0  \n",
      "0.695436  0.428571     0.0  \n",
      "0.745228  0.142857     0.0  \n",
      "0.818257  0.142857     0.0  \n"
     ]
    }
   ],
   "source": [
    "#convert excel to all be of same data type\n",
    "import pandas\n",
    "import numpy\n",
    "import math\n",
    "import random\n",
    "\n",
    "#can probably make this a def function\n",
    "pathname = \"/Users/chugh/Documents/UFC Fight Code/Fighter stats train difference.csv\"\n",
    "pathname2 = \"/Users/chugh/Documents/UFC Fight Code/Fighter stats train difference 2.csv\"\n",
    "stats = pandas.read_csv(pathname, index_col = 0)\n",
    "stats = stats.reset_index()\n",
    "#normalize columns\n",
    "stats=(stats-stats.min())/(stats.max()-stats.min())\n",
    "#print(stats)\n",
    "stats2 = stats.astype('float32')\n",
    "stats2.to_csv(pathname2, index=False)\n",
    "stats3 = pandas.read_csv(pathname2, index_col = 0)\n",
    "print(stats3)"
   ]
  },
  {
   "cell_type": "code",
   "execution_count": 2,
   "metadata": {},
   "outputs": [
    {
     "name": "stdout",
     "output_type": "stream",
     "text": [
      "Features: ['SSpM', 'StrDef', 'TDpM', 'TDDef', 'Rank', 'WL', 'FinUFC', 'Age', 'Dur']\n",
      "Label: Result\n",
      "WARNING:tensorflow:From C:\\Users\\chugh\\Anaconda3\\lib\\site-packages\\tensorflow_core\\python\\data\\experimental\\ops\\readers.py:540: parallel_interleave (from tensorflow.python.data.experimental.ops.interleave_ops) is deprecated and will be removed in a future version.\n",
      "Instructions for updating:\n",
      "Use `tf.data.Dataset.interleave(map_func, cycle_length, block_length, num_parallel_calls=tf.data.experimental.AUTOTUNE)` instead. If sloppy execution is desired, use `tf.data.Options.experimental_determinstic`.\n",
      "OrderedDict([('SSpM', <tf.Tensor: id=86, shape=(5,), dtype=float32, numpy=\n",
      "array([0.83651453, 0.69045645, 0.7427386 , 0.7294606 , 0.46639004],\n",
      "      dtype=float32)>), ('StrDef', <tf.Tensor: id=87, shape=(5,), dtype=float32, numpy=\n",
      "array([0.31666666, 0.55      , 0.43333334, 0.65      , 0.43333334],\n",
      "      dtype=float32)>), ('TDpM', <tf.Tensor: id=89, shape=(5,), dtype=float32, numpy=\n",
      "array([0.5011601 , 0.29156998, 0.38515082, 0.43078113, 0.3704563 ],\n",
      "      dtype=float32)>), ('TDDef', <tf.Tensor: id=88, shape=(5,), dtype=float32, numpy=\n",
      "array([0.19018404, 0.66871166, 0.34969324, 0.41104296, 0.41104296],\n",
      "      dtype=float32)>), ('Rank', <tf.Tensor: id=85, shape=(5,), dtype=float32, numpy=\n",
      "array([0.833935  , 0.58844763, 0.64620936, 0.66064984, 0.68231046],\n",
      "      dtype=float32)>), ('WL', <tf.Tensor: id=90, shape=(5,), dtype=float32, numpy=\n",
      "array([0.8888889 , 0.7777778 , 0.44444445, 0.44444445, 0.11111111],\n",
      "      dtype=float32)>), ('FinUFC', <tf.Tensor: id=84, shape=(5,), dtype=float32, numpy=array([0.    , 0.3125, 0.875 , 0.625 , 0.75  ], dtype=float32)>), ('Age', <tf.Tensor: id=82, shape=(5,), dtype=float32, numpy=\n",
      "array([0.39130434, 0.3043478 , 0.5217391 , 0.5217391 , 0.65217394],\n",
      "      dtype=float32)>), ('Dur', <tf.Tensor: id=83, shape=(5,), dtype=float32, numpy=\n",
      "array([0.2742857 , 0.3809524 , 0.42857143, 0.23809524, 0.08571429],\n",
      "      dtype=float32)>)])\n"
     ]
    }
   ],
   "source": [
    "#want to write code that takes in two fighters stats and makes a prediction of who will win \n",
    "#additionally, would like to at some point make it so that it knows how they will win\n",
    "\n",
    "#in order to do this, we will feed in data from both fighters as one data structure\n",
    "#based on the features for each fighter, the algorithm will try to predict who will win\n",
    "\n",
    "#we are going to want to create a structure of features and labels\n",
    "#for features, we will include all data for Fighter 1 and Fighter 2 labeled F1 amd F2\n",
    "#labels will contain the winner of each match (F1 or F2)\n",
    "\n",
    "import os\n",
    "import matplotlib.pyplot as plt\n",
    "import tensorflow as tf\n",
    "tf.enable_eager_execution()\n",
    "\n",
    "\n",
    "#load in training data\n",
    "pathname = \"/Users/chugh/Documents/UFC Fight Code/Fighter stats train difference 2.csv\"\n",
    "\n",
    "# column order in CSV file\n",
    "column_names = ['SSpM','StrDef','TDpM','TDDef','Rank','WL','FinUFC','Age','Dur','Result']\n",
    "\n",
    "\n",
    "feature_names = column_names[:-1]\n",
    "label_name = column_names[-1]\n",
    "\n",
    "print(\"Features: {}\".format(feature_names))\n",
    "print(\"Label: {}\".format(label_name))\n",
    "\n",
    "class_names = ['Fighter 1', 'Fighter 2']\n",
    "\n",
    "batch_size = 5\n",
    "\n",
    "train_dataset = tf.data.experimental.make_csv_dataset(\n",
    "    pathname,\n",
    "    batch_size,\n",
    "    column_names=column_names,\n",
    "    label_name=label_name,\n",
    "    num_epochs=1)\n",
    "\n",
    "features, labels = next(iter(train_dataset))\n",
    "print(features)"
   ]
  },
  {
   "cell_type": "code",
   "execution_count": 3,
   "metadata": {},
   "outputs": [
    {
     "name": "stdout",
     "output_type": "stream",
     "text": [
      "tf.Tensor(\n",
      "[[0.83651453 0.31666666 0.5011601  0.19018404 0.833935   0.8888889\n",
      "  0.         0.39130434 0.2742857 ]\n",
      " [0.69045645 0.55       0.29156998 0.66871166 0.58844763 0.7777778\n",
      "  0.3125     0.3043478  0.3809524 ]\n",
      " [0.7427386  0.43333334 0.38515082 0.34969324 0.64620936 0.44444445\n",
      "  0.875      0.5217391  0.42857143]\n",
      " [0.7294606  0.65       0.43078113 0.41104296 0.66064984 0.44444445\n",
      "  0.625      0.5217391  0.23809524]\n",
      " [0.46639004 0.43333334 0.3704563  0.41104296 0.68231046 0.11111111\n",
      "  0.75       0.65217394 0.08571429]], shape=(5, 9), dtype=float32)\n"
     ]
    }
   ],
   "source": [
    "def pack_features_vector(features, labels):\n",
    "\n",
    "    features = tf.stack(list(features.values()), axis=1)\n",
    "\n",
    "    return features, labels\n",
    "train_dataset = train_dataset.map(pack_features_vector)\n",
    "\n",
    "features, labels = next(iter(train_dataset))\n",
    "\n",
    "print(features[:5])"
   ]
  },
  {
   "cell_type": "code",
   "execution_count": 4,
   "metadata": {},
   "outputs": [],
   "source": [
    "model = tf.keras.Sequential([\n",
    "  tf.keras.layers.Dense(20, activation=tf.nn.relu, input_shape=(9,)),  # input shape required\n",
    "  tf.keras.layers.Dense(5, activation=tf.nn.relu),\n",
    "  tf.keras.layers.Dense(2)\n",
    "])"
   ]
  },
  {
   "cell_type": "code",
   "execution_count": 5,
   "metadata": {},
   "outputs": [
    {
     "data": {
      "text/plain": [
       "<tf.Tensor: id=230, shape=(5, 2), dtype=float32, numpy=\n",
       "array([[0.44972807, 0.550272  ],\n",
       "       [0.48645332, 0.51354665],\n",
       "       [0.48439217, 0.51560783],\n",
       "       [0.47466132, 0.52533865],\n",
       "       [0.47225016, 0.52774984]], dtype=float32)>"
      ]
     },
     "execution_count": 5,
     "metadata": {},
     "output_type": "execute_result"
    }
   ],
   "source": [
    "predictions = model(features)\n",
    "tf.nn.softmax(predictions[:5])"
   ]
  },
  {
   "cell_type": "code",
   "execution_count": 6,
   "metadata": {},
   "outputs": [
    {
     "name": "stdout",
     "output_type": "stream",
     "text": [
      "Loss test: 0.641802191734314\n"
     ]
    }
   ],
   "source": [
    "loss_object = tf.keras.losses.SparseCategoricalCrossentropy(from_logits=True)\n",
    "def loss(model, x, y, training):\n",
    "  # training=training is needed only if there are layers with different\n",
    "  # behavior during training versus inference (e.g. Dropout).\n",
    "    y_ = model(x, training=training)\n",
    "    return loss_object(y_true=y, y_pred=y_)\n",
    "\n",
    "\n",
    "l = loss(model, features, labels, training=False)\n",
    "print(\"Loss test: {}\".format(l))"
   ]
  },
  {
   "cell_type": "code",
   "execution_count": 7,
   "metadata": {},
   "outputs": [
    {
     "name": "stdout",
     "output_type": "stream",
     "text": [
      "Step: 0, Initial Loss: 0.641802191734314\n",
      "Step: 1, Loss: 0.6328970193862915\n"
     ]
    }
   ],
   "source": [
    "def grad(model, inputs, targets):\n",
    "    with tf.GradientTape() as tape:\n",
    "        loss_value = loss(model, inputs, targets, training=True)\n",
    "\n",
    "    return loss_value, tape.gradient(loss_value, model.trainable_variables)\n",
    "optimizer = tf.keras.optimizers.SGD(learning_rate=0.01)\n",
    "loss_value, grads = grad(model, features, labels)\n",
    "print(\"Step: {}, Initial Loss: {}\".format(optimizer.iterations.numpy(),loss_value.numpy()))\n",
    "\n",
    "optimizer.apply_gradients(zip(grads, model.trainable_variables))\n",
    "\n",
    "print(\"Step: {}, Loss: {}\".format(optimizer.iterations.numpy(),loss(model, features, labels, training=True).numpy()))"
   ]
  },
  {
   "cell_type": "code",
   "execution_count": 8,
   "metadata": {},
   "outputs": [
    {
     "name": "stdout",
     "output_type": "stream",
     "text": [
      "Epoch 000: Loss: 0.702, Accuracy: 48.000%\n",
      "Epoch 050: Loss: 0.690, Accuracy: 54.000%\n",
      "Epoch 100: Loss: 0.686, Accuracy: 56.000%\n",
      "Epoch 150: Loss: 0.683, Accuracy: 60.000%\n",
      "Epoch 200: Loss: 0.678, Accuracy: 62.000%\n"
     ]
    }
   ],
   "source": [
    "## Note: Rerunning this cell uses the same model variables\n",
    "\n",
    "# Keep results for plotting\n",
    "train_loss_results = []\n",
    "train_accuracy_results = []\n",
    "\n",
    "num_epochs = 201\n",
    "\n",
    "for epoch in range(num_epochs):\n",
    "    epoch_loss_avg = tf.keras.metrics.Mean()\n",
    "    epoch_accuracy = tf.keras.metrics.SparseCategoricalAccuracy()\n",
    "\n",
    "    # Training loop - using batches of 32\n",
    "    for x, y in train_dataset:\n",
    "        # Optimize the model\n",
    "        loss_value, grads = grad(model, x, y)\n",
    "        optimizer.apply_gradients(zip(grads, model.trainable_variables))\n",
    "\n",
    "        # Track progress\n",
    "        epoch_loss_avg.update_state(loss_value)  # Add current batch loss\n",
    "        # Compare predicted label to actual label\n",
    "        # training=True is needed only if there are layers with different\n",
    "        # behavior during training versus inference (e.g. Dropout).\n",
    "        epoch_accuracy.update_state(y, model(x, training=True))\n",
    "\n",
    "      # End epoch\n",
    "    train_loss_results.append(epoch_loss_avg.result())\n",
    "    train_accuracy_results.append(epoch_accuracy.result())\n",
    "    if epoch % 50 == 0:\n",
    "        print(\"Epoch {:03d}: Loss: {:.3f}, Accuracy: {:.3%}\".format(epoch,epoch_loss_avg.result(),epoch_accuracy.result()))"
   ]
  },
  {
   "cell_type": "code",
   "execution_count": 9,
   "metadata": {},
   "outputs": [],
   "source": [
    "import pandas\n",
    "import numpy\n",
    "import math\n",
    "\n",
    "pathname = \"/Users/chugh/Documents/UFC Fight Code/Fighter stats test difference.csv\"\n",
    "pathname2 = \"/Users/chugh/Documents/UFC Fight Code/Fighter stats test difference 2.csv\"\n",
    "stats = pandas.read_csv(pathname, index_col = 0)\n",
    "stats = stats.reset_index()\n",
    "#normalize columns\n",
    "stats=(stats-stats.min())/(stats.max()-stats.min())\n",
    "stats2 = stats.astype('float32')\n",
    "stats2.to_csv(pathname2, index=False)\n",
    "stats3 = pandas.read_csv(pathname2, index_col = 0)\n"
   ]
  },
  {
   "cell_type": "code",
   "execution_count": 10,
   "metadata": {},
   "outputs": [],
   "source": [
    "test_url = \"/Users/chugh/Documents/UFC Fight Code/Fighter stats test difference 2.csv\"\n",
    "\n",
    "batch_size = 4\n",
    "test_dataset = tf.data.experimental.make_csv_dataset(\n",
    "    test_url,\n",
    "    batch_size,\n",
    "    column_names=column_names,\n",
    "    label_name='Result',\n",
    "    num_epochs=1,\n",
    "    shuffle=False)\n",
    "\n",
    "test_dataset = test_dataset.map(pack_features_vector)"
   ]
  },
  {
   "cell_type": "code",
   "execution_count": 11,
   "metadata": {},
   "outputs": [
    {
     "name": "stdout",
     "output_type": "stream",
     "text": [
      "tf.Tensor([0 0 0 0], shape=(4,), dtype=int32)\n",
      "tf.Tensor([0 0 0 0], shape=(4,), dtype=int32)\n",
      "tf.Tensor([0 1 0 0], shape=(4,), dtype=int32)\n",
      "tf.Tensor([0 0 0], shape=(3,), dtype=int32)\n",
      "Test set accuracy: 60.000%\n"
     ]
    }
   ],
   "source": [
    "test_accuracy = tf.keras.metrics.Accuracy()\n",
    "\n",
    "for (x, y) in test_dataset:\n",
    "  # training=False is needed only if there are layers with different\n",
    "  # behavior during training versus inference (e.g. Dropout).\n",
    "    logits = model(x, training=False)\n",
    "    prediction = tf.argmax(logits, axis=1, output_type=tf.int32)\n",
    "    print(prediction)\n",
    "    test_accuracy(prediction, y)\n",
    "\n",
    "print(\"Test set accuracy: {:.3%}\".format(test_accuracy.result()))"
   ]
  },
  {
   "cell_type": "code",
   "execution_count": 12,
   "metadata": {
    "scrolled": true
   },
   "outputs": [
    {
     "name": "stdout",
     "output_type": "stream",
     "text": [
      "tf.Tensor([1 1 1 1 1 0 0], shape=(7,), dtype=int32)\n"
     ]
    },
    {
     "data": {
      "text/plain": [
       "<tf.Tensor: id=222110, shape=(7, 2), dtype=float32, numpy=\n",
       "array([[0.48082152, 0.51917845],\n",
       "       [0.48626855, 0.5137314 ],\n",
       "       [0.4853932 , 0.51460683],\n",
       "       [0.47542468, 0.52457535],\n",
       "       [0.43487683, 0.56512314],\n",
       "       [0.5369226 , 0.4630774 ],\n",
       "       [0.5369226 , 0.4630774 ]], dtype=float32)>"
      ]
     },
     "execution_count": 12,
     "metadata": {},
     "output_type": "execute_result"
    }
   ],
   "source": [
    "#for new data\n",
    "import pandas\n",
    "import numpy\n",
    "import math\n",
    "\n",
    "pathname = \"/Users/chugh/Documents/UFC Fight Code/Fighter Stats 81920 difference.csv\"\n",
    "pathname2 = \"/Users/chugh/Documents/UFC Fight Code/Fighter Stats 81920 difference 2.csv\"\n",
    "stats = pandas.read_csv(pathname, index_col = 0)\n",
    "stats = stats.reset_index()\n",
    "#normalize columns\n",
    "stats=(stats-stats.min())/(stats.max()-stats.min())\n",
    "stats2 = stats.astype('float32')\n",
    "stats2.to_csv(pathname2, index=False)\n",
    "\n",
    "#will default results to 1\n",
    "test_url = \"/Users/chugh/Documents/UFC Fight Code/Fighter Stats 81920 difference 2.csv\"\n",
    "\n",
    "batch_size = 7 #batch size should be equal to the number of fights\n",
    "test_dataset = tf.data.experimental.make_csv_dataset(\n",
    "    test_url,\n",
    "    batch_size,\n",
    "    column_names=column_names,\n",
    "    label_name='Result',\n",
    "    num_epochs=1,\n",
    "    shuffle=False)\n",
    "\n",
    "test_dataset = test_dataset.map(pack_features_vector)\n",
    "\n",
    "test_accuracy = tf.keras.metrics.Accuracy()\n",
    "\n",
    "for (x, y) in test_dataset:\n",
    "  # training=False is needed only if there are layers with different\n",
    "  # behavior during training versus inference (e.g. Dropout).\n",
    "    logits = model(x, training=False)\n",
    "    prediction = tf.argmax(logits, axis=1, output_type=tf.int32)\n",
    "    print(prediction)\n",
    "    test_accuracy(prediction, y)\n",
    "    \n",
    "tf.nn.softmax(logits)"
   ]
  },
  {
   "cell_type": "code",
   "execution_count": null,
   "metadata": {},
   "outputs": [],
   "source": [
    "model.save(\"/Users/chugh/Documents/UFC Fight Code/model_8320_hundred\")"
   ]
  },
  {
   "cell_type": "code",
   "execution_count": null,
   "metadata": {},
   "outputs": [],
   "source": [
    "print(column_names)"
   ]
  },
  {
   "cell_type": "code",
   "execution_count": null,
   "metadata": {},
   "outputs": [],
   "source": []
  }
 ],
 "metadata": {
  "kernelspec": {
   "display_name": "Python 3",
   "language": "python",
   "name": "python3"
  },
  "language_info": {
   "codemirror_mode": {
    "name": "ipython",
    "version": 3
   },
   "file_extension": ".py",
   "mimetype": "text/x-python",
   "name": "python",
   "nbconvert_exporter": "python",
   "pygments_lexer": "ipython3",
   "version": "3.7.4"
  }
 },
 "nbformat": 4,
 "nbformat_minor": 2
}
